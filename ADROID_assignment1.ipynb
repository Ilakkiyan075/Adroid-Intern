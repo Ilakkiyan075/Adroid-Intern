{
  "nbformat": 4,
  "nbformat_minor": 0,
  "metadata": {
    "colab": {
      "provenance": []
    },
    "kernelspec": {
      "name": "python3",
      "display_name": "Python 3"
    },
    "language_info": {
      "name": "python"
    }
  },
  "cells": [
    {
      "cell_type": "code",
      "source": [
        "print (\" 1.WAP to add 50 and 60 to L. \")\n",
        "L = [11, 12, 13, 14]\n",
        "L.append(50)\n",
        "L.append(60)\n",
        "print(L)\n",
        "\n",
        "\n",
        "L.remove(11)\n",
        "L.remove(13)\n",
        "print(L)\n",
        "\n",
        "\n",
        "L.sort()\n",
        "print (L)\n",
        "\n",
        "\n",
        "L.sort(reverse=True)\n",
        "print(L)\n",
        "print()\n",
        "\n",
        "search_result = 13 in L\n",
        "print(L)\n",
        "\n",
        "\n",
        "\n",
        "count_elements = len(L)\n",
        "print(L)\n",
        "\n",
        "\n",
        "sum_elements = sum(L)\n",
        "print(L)\n",
        "\n",
        "\n",
        "sum_odd = sum(x for x in L if x % 2 != 0)\n",
        "print(L)\n",
        "\n",
        "\n",
        "sum_even = sum(x for x in L if x % 2 == 0)\n",
        "print(L)\n",
        "\n",
        "\n",
        "\n",
        "def is_prime(n):\n",
        "    if n <= 1:\n",
        "        return False\n",
        "    for i in range(2, int(n**0.5) + 1):\n",
        "        if n % i == 0:\n",
        "            return False\n",
        "    return True\n",
        "\n",
        "sum_prime = sum(x for x in L if is_prime(x))\n",
        "\n",
        "print(L)\n",
        "\n",
        "\n",
        "L.clear()\n",
        "print(L)\n",
        "\n",
        "\n",
        "del L\n"
      ],
      "metadata": {
        "colab": {
          "base_uri": "https://localhost:8080/"
        },
        "id": "WgZijVbQ3UJp",
        "outputId": "6d7c365f-e332-4988-80d2-6e8dbd7120cf"
      },
      "execution_count": null,
      "outputs": [
        {
          "output_type": "stream",
          "name": "stdout",
          "text": [
            " 1.WAP to add 50 and 60 to L. \n",
            "[11, 12, 13, 14, 50, 60]\n",
            "[12, 14, 50, 60]\n",
            "[12, 14, 50, 60]\n",
            "[60, 50, 14, 12]\n",
            "\n",
            "[60, 50, 14, 12]\n",
            "[60, 50, 14, 12]\n",
            "[60, 50, 14, 12]\n",
            "[60, 50, 14, 12]\n",
            "[60, 50, 14, 12]\n",
            "[60, 50, 14, 12]\n",
            "[]\n"
          ]
        }
      ]
    },
    {
      "cell_type": "code",
      "source": [
        "\n",
        "D = {1: 5.6, 2: 7.8, 3: 6.6, 4: 8.7, 5: 7.7}\n",
        "\n",
        "D[8] = 8.8\n",
        "print(D)\n",
        "\n",
        "\n",
        "if 2 in D:\n",
        "    del D[2]\n",
        "print(D)\n",
        "\n",
        "\n",
        "key_present = 6 in D\n",
        "print(D)\n",
        "\n",
        "\n",
        "count_elements = len(D)\n",
        "print(D)\n",
        "\n",
        "\n",
        "sum_values = sum(D.values())\n",
        "print(D)\n",
        "\n",
        "\n",
        "D[3] = 7.1\n",
        "print(D)\n",
        "\n",
        "D.clear()\n",
        "print(D)\n"
      ],
      "metadata": {
        "colab": {
          "base_uri": "https://localhost:8080/"
        },
        "id": "W20XlI2O8Mnz",
        "outputId": "d9060c16-c6e2-4424-f21e-8b5e211a0c25"
      },
      "execution_count": null,
      "outputs": [
        {
          "output_type": "stream",
          "name": "stdout",
          "text": [
            "{1: 5.6, 2: 7.8, 3: 6.6, 4: 8.7, 5: 7.7, 8: 8.8}\n",
            "{1: 5.6, 3: 6.6, 4: 8.7, 5: 7.7, 8: 8.8}\n",
            "{1: 5.6, 3: 6.6, 4: 8.7, 5: 7.7, 8: 8.8}\n",
            "{1: 5.6, 3: 6.6, 4: 8.7, 5: 7.7, 8: 8.8}\n",
            "{1: 5.6, 3: 6.6, 4: 8.7, 5: 7.7, 8: 8.8}\n",
            "{1: 5.6, 3: 7.1, 4: 8.7, 5: 7.7, 8: 8.8}\n",
            "{}\n"
          ]
        }
      ]
    },
    {
      "cell_type": "code",
      "source": [
        "\n",
        "\n",
        "S1 = {10, 20, 30, 40, 50, 60}\n",
        "S2 = {40, 50, 60, 70, 80, 90}\n",
        "\n",
        "\n",
        "S1.add(55)\n",
        "S1.add(66)\n",
        "print(S1)\n",
        "print()\n",
        "\n",
        "S1.discard(10)\n",
        "S1.discard(30)\n",
        "print(S1)\n",
        "print()\n",
        "\n",
        "is_present = 40 in S1\n",
        "print(is_present)\n",
        "print()\n",
        "\n",
        "union_set = S1.union(S2)\n",
        "print(union_set)\n",
        "print()\n",
        "\n",
        "\n",
        "intersection_set = S1.intersection(S2)\n",
        "print(intersection_set)\n",
        "print()\n",
        "\n",
        "\n",
        "difference_set = S1.difference(S2)\n",
        "print(difference_set)\n",
        "print()\n"
      ],
      "metadata": {
        "colab": {
          "base_uri": "https://localhost:8080/"
        },
        "id": "QJZu3ou09xMA",
        "outputId": "222378fc-a912-4a6e-c413-e54fa2def2db"
      },
      "execution_count": null,
      "outputs": [
        {
          "output_type": "stream",
          "name": "stdout",
          "text": [
            "{50, 66, 20, 55, 40, 10, 60, 30}\n",
            "\n",
            "{50, 66, 20, 55, 40, 60}\n",
            "\n",
            "True\n",
            "\n",
            "{66, 70, 40, 80, 50, 20, 55, 90, 60}\n",
            "\n",
            "{40, 50, 60}\n",
            "\n",
            "{66, 20, 55}\n",
            "\n"
          ]
        }
      ]
    },
    {
      "cell_type": "code",
      "source": [
        "\n",
        "\n",
        "\n",
        "import random\n",
        "import string\n",
        "\n",
        "def generate_random_string(length):\n",
        "    return ''.join(random.choice(string.ascii_letters) for _ in range(length))\n",
        "\n",
        "random_strings = [generate_random_string(random.randint(6, 8)) for _ in range(100)]\n",
        "\n",
        "for s in random_strings:\n",
        "    print(s)\n",
        "print()\n",
        "\n",
        "def is_prime(n):\n",
        "    if n <= 1:\n",
        "        return False\n",
        "    for i in range(2, int(n**0.5) + 1):\n",
        "        if n % i == 0:\n",
        "            return False\n",
        "    return True\n",
        "\n",
        "prime_numbers = [n for n in range(600, 801) if is_prime(n)]\n",
        "\n",
        "for prime in prime_numbers:\n",
        "    print(prime)\n",
        "print()\n",
        "\n",
        "\n",
        "divisible_numbers = [n for n in range(100, 1001) if n % 7 == 0 and n % 9 == 0]\n",
        "\n",
        "for number in divisible_numbers:\n",
        "    print(number)\n",
        "print()"
      ],
      "metadata": {
        "colab": {
          "base_uri": "https://localhost:8080/"
        },
        "id": "fJuZoSzG_Oz-",
        "outputId": "92666691-7e06-4234-82cd-668e0a079dd8"
      },
      "execution_count": null,
      "outputs": [
        {
          "output_type": "stream",
          "name": "stdout",
          "text": [
            "kWPtGYCv\n",
            "JRXvHa\n",
            "TqSkOMeb\n",
            "zdVdfUN\n",
            "gagNpWf\n",
            "LHjXSa\n",
            "wApTJBxs\n",
            "QdoRkvVu\n",
            "UUYjGl\n",
            "XlFRGy\n",
            "QVuislm\n",
            "msmxWCsE\n",
            "jkrdgUvW\n",
            "sEqERXu\n",
            "ZVyCVy\n",
            "oBUOPoR\n",
            "lbwdbzTV\n",
            "GOnhpu\n",
            "jShQgBX\n",
            "Eimsddh\n",
            "hMkOuX\n",
            "pDVPhipG\n",
            "KBtzvVq\n",
            "GVVlZgm\n",
            "IMvARCpA\n",
            "XPeWzMw\n",
            "tXlupyz\n",
            "lnvSFJ\n",
            "plMTcKsh\n",
            "cWxOFK\n",
            "YViHTRL\n",
            "OhbAbraE\n",
            "vPMumPu\n",
            "mSVbwoB\n",
            "iCTSuSc\n",
            "qSnDGi\n",
            "HFhgrVr\n",
            "XGRpWXr\n",
            "jGtmfrpS\n",
            "vwymcxM\n",
            "OmXhqLKk\n",
            "puqpLYk\n",
            "emlVGURU\n",
            "wniPZVw\n",
            "lVUCRLXa\n",
            "DpuDAUSz\n",
            "DYxswtaO\n",
            "NspoXZ\n",
            "OlsWXxiS\n",
            "FVEVlpE\n",
            "FWOfhd\n",
            "UYvTWv\n",
            "rYNqVXtp\n",
            "lsQpEC\n",
            "SnbsEk\n",
            "pfpiCAwN\n",
            "ZOeEnC\n",
            "gVmiQLfO\n",
            "TtxHERd\n",
            "pMVUdSu\n",
            "iwtdVxv\n",
            "abGhehy\n",
            "IHbaygdF\n",
            "EYbnADhV\n",
            "iPNjEu\n",
            "sEqGljmr\n",
            "AKkaBT\n",
            "YsikRlY\n",
            "hyjxmZJY\n",
            "ibVREG\n",
            "FBKcKLQg\n",
            "mcvItP\n",
            "PMnoRf\n",
            "yxayPID\n",
            "eQdRvjC\n",
            "lgdqzI\n",
            "UnzfrkD\n",
            "xIYvmdPE\n",
            "mOfrfmWD\n",
            "tbYzoqH\n",
            "SCvPYWGZ\n",
            "JWHYdsq\n",
            "UrvGFN\n",
            "dHtBtNP\n",
            "zLUCxKlm\n",
            "oENYrnl\n",
            "IDvuzWP\n",
            "xUEswVZ\n",
            "rKPsLyTl\n",
            "IviiOqq\n",
            "GATGJqW\n",
            "FJjRdaJE\n",
            "ccmREG\n",
            "ZSGVhjCp\n",
            "sIBdtYde\n",
            "COBToQ\n",
            "WhacTNb\n",
            "QOcmyJ\n",
            "LJcBJwY\n",
            "atKjsUhS\n",
            "\n",
            "601\n",
            "607\n",
            "613\n",
            "617\n",
            "619\n",
            "631\n",
            "641\n",
            "643\n",
            "647\n",
            "653\n",
            "659\n",
            "661\n",
            "673\n",
            "677\n",
            "683\n",
            "691\n",
            "701\n",
            "709\n",
            "719\n",
            "727\n",
            "733\n",
            "739\n",
            "743\n",
            "751\n",
            "757\n",
            "761\n",
            "769\n",
            "773\n",
            "787\n",
            "797\n",
            "\n",
            "126\n",
            "189\n",
            "252\n",
            "315\n",
            "378\n",
            "441\n",
            "504\n",
            "567\n",
            "630\n",
            "693\n",
            "756\n",
            "819\n",
            "882\n",
            "945\n",
            "\n"
          ]
        }
      ]
    },
    {
      "cell_type": "code",
      "source": [
        "\n",
        "\n",
        "import random\n",
        "list1 = [random.randint(10, 30) for _ in range(10)]\n",
        "list2 = [random.randint(10, 30) for _ in range(10)]\n",
        "print(f\"List 1: {list1}\")\n",
        "print(f\"List 2: {list2}\")\n",
        "print()\n",
        "\n",
        "\n",
        "common_numbers = list(set(list1) & set(list2))\n",
        "print(f\"Common numbers: {common_numbers}\")\n",
        "print()\n",
        "\n",
        "unique_numbers = list(set(list1) ^ set(list2))\n",
        "print(f\"Unique numbers: {unique_numbers}\")\n",
        "print()\n",
        "\n",
        "print()\n",
        "min_list1 = min(list1)\n",
        "min_list2 = min(list2)\n",
        "print(f\"Minimum in list 1: {min_list1}\")\n",
        "print(f\"Minimum in list 2: {min_list2}\")\n",
        "print()\n",
        "\n",
        "\n",
        "max_list1 = max(list1)\n",
        "max_list2 = max(list2)\n",
        "print(f\"Maximum in list 1: {max_list1}\")\n",
        "print(f\"Maximum in list 2: {max_list2}\")\n",
        "print()\n",
        "\n",
        "\n",
        "sum_list1 = sum(list1)\n",
        "sum_list2 = sum(list2)\n",
        "print(f\"Sum of list 1: {sum_list1}\")\n",
        "print(f\"Sum of list 2: {sum_list2}\")\n",
        "print()\n",
        "\n",
        "\n",
        "\n"
      ],
      "metadata": {
        "colab": {
          "base_uri": "https://localhost:8080/"
        },
        "id": "Y1tRt1DE_-8r",
        "outputId": "8849b513-4fac-4c26-b7d8-063cd2999221"
      },
      "execution_count": null,
      "outputs": [
        {
          "output_type": "stream",
          "name": "stdout",
          "text": [
            "List 1: [10, 27, 23, 11, 29, 29, 23, 15, 12, 13]\n",
            "List 2: [10, 24, 17, 15, 21, 11, 28, 27, 27, 18]\n",
            "\n",
            "Common numbers: [27, 10, 11, 15]\n",
            "\n",
            "Unique numbers: [12, 13, 17, 18, 21, 23, 24, 28, 29]\n",
            "\n",
            "\n",
            "Minimum in list 1: 10\n",
            "Minimum in list 2: 10\n",
            "\n",
            "Maximum in list 1: 29\n",
            "Maximum in list 2: 28\n",
            "\n",
            "Sum of list 1: 192\n",
            "Sum of list 2: 198\n",
            "\n"
          ]
        }
      ]
    },
    {
      "cell_type": "code",
      "source": [
        "\n",
        "\n",
        "import random\n",
        "random_numbers = [random.randint(100, 900) for _ in range(100)]\n",
        "def is_prime(n):\n",
        "    if n <= 1:\n",
        "        return False\n",
        "    for i in range(2, int(n**0.5) + 1):\n",
        "        if n % i == 0:\n",
        "            return False\n",
        "    return True\n",
        "\n",
        "print(f\"List of 100 random numbers: {random_numbers}\")\n",
        "print()\n",
        "\n",
        "\n",
        "odd_numbers = [num for num in random_numbers if num % 2 != 0]\n",
        "print(f\"Odd numbers ({len(odd_numbers)}): {odd_numbers}\")\n",
        "print()\n",
        "\n",
        "\n",
        "even_numbers = [num for num in random_numbers if num % 2 == 0]\n",
        "print(f\"Even numbers ({len(even_numbers)}): {even_numbers}\")\n",
        "print()\n",
        "\n",
        "prime_numbers = [num for num in random_numbers if is_prime(num)]\n",
        "print(f\"Prime numbers ({len(prime_numbers)}): {prime_numbers}\")\n",
        "print()\n"
      ],
      "metadata": {
        "colab": {
          "base_uri": "https://localhost:8080/"
        },
        "id": "S_6NsEnoCm5K",
        "outputId": "2e5a26df-4a7d-4cb9-f463-bbfadc14a947"
      },
      "execution_count": null,
      "outputs": [
        {
          "output_type": "stream",
          "name": "stdout",
          "text": [
            "List of 100 random numbers: [266, 237, 484, 265, 702, 238, 323, 452, 541, 423, 872, 552, 742, 581, 526, 622, 595, 243, 488, 590, 133, 855, 580, 774, 102, 793, 676, 602, 898, 177, 686, 591, 513, 250, 561, 360, 337, 473, 591, 131, 749, 890, 335, 247, 318, 293, 176, 798, 681, 166, 395, 230, 637, 574, 244, 800, 362, 585, 663, 325, 674, 792, 170, 699, 654, 491, 678, 491, 603, 292, 686, 776, 551, 868, 554, 135, 302, 836, 363, 799, 486, 692, 646, 854, 403, 872, 247, 472, 202, 516, 327, 466, 286, 611, 121, 347, 804, 215, 811, 492]\n",
            "\n",
            "Odd numbers (45): [237, 265, 323, 541, 423, 581, 595, 243, 133, 855, 793, 177, 591, 513, 561, 337, 473, 591, 131, 749, 335, 247, 293, 681, 395, 637, 585, 663, 325, 699, 491, 491, 603, 551, 135, 363, 799, 403, 247, 327, 611, 121, 347, 215, 811]\n",
            "\n",
            "Even numbers (55): [266, 484, 702, 238, 452, 872, 552, 742, 526, 622, 488, 590, 580, 774, 102, 676, 602, 898, 686, 250, 360, 890, 318, 176, 798, 166, 230, 574, 244, 800, 362, 674, 792, 170, 654, 678, 292, 686, 776, 868, 554, 302, 836, 486, 692, 646, 854, 872, 472, 202, 516, 466, 286, 804, 492]\n",
            "\n",
            "Prime numbers (8): [541, 337, 131, 293, 491, 491, 347, 811]\n",
            "\n"
          ]
        }
      ]
    },
    {
      "cell_type": "code",
      "source": [
        "\n",
        "\n",
        "\n",
        "D = {1: \"One\", 2: \"Two\", 3: \"Three\", 4: \"Four\", 5: \"Five\"}\n",
        "print(D)\n",
        "print()\n",
        "\n",
        "\n",
        "with open('output.txt', 'w') as file:\n",
        "\n",
        "    for key, value in D.items():\n",
        "        file.write(f\"Key{key}, Value{value}\\n\")\n",
        "\n",
        "\n",
        "with open('output.txt', 'r') as file:\n",
        "    contents = file.read()\n",
        "    print(contents)\n",
        "\n"
      ],
      "metadata": {
        "colab": {
          "base_uri": "https://localhost:8080/"
        },
        "id": "Opi1to50EsZj",
        "outputId": "e917533f-a723-437f-a7c0-52e8a346fb46"
      },
      "execution_count": null,
      "outputs": [
        {
          "output_type": "stream",
          "name": "stdout",
          "text": [
            "{1: 'One', 2: 'Two', 3: 'Three', 4: 'Four', 5: 'Five'}\n",
            "\n",
            "Key1, ValueOne\n",
            "Key2, ValueTwo\n",
            "Key3, ValueThree\n",
            "Key4, ValueFour\n",
            "Key5, ValueFive\n",
            "\n"
          ]
        }
      ]
    },
    {
      "cell_type": "code",
      "source": [
        "\n",
        "L = [\"One\", \"Two\", \"Three\", \"Four\", \"Five\"]\n",
        "print(L)\n",
        "\n",
        "with open('output.txt', 'w') as file:\n",
        "    for element in L:\n",
        "        file.write(f\"{element}, {len(element)}\\n\")\n",
        "\n",
        "with open('output.txt', 'r') as file:\n",
        "    contents = file.read()\n",
        "    print(contents)\n"
      ],
      "metadata": {
        "colab": {
          "base_uri": "https://localhost:8080/"
        },
        "id": "NZniWSqcE8L-",
        "outputId": "707c7426-f9b5-4fef-efe6-df07d28507c1"
      },
      "execution_count": null,
      "outputs": [
        {
          "output_type": "stream",
          "name": "stdout",
          "text": [
            "['One', 'Two', 'Three', 'Four', 'Five']\n",
            "One, 3\n",
            "Two, 3\n",
            "Three, 5\n",
            "Four, 4\n",
            "Five, 4\n",
            "\n"
          ]
        }
      ]
    },
    {
      "cell_type": "code",
      "source": [
        "\n",
        "import random\n",
        "import string\n",
        "\n",
        "\n",
        "def generate_random_string(length):\n",
        "    return ''.join(random.choice(string.ascii_letters + string.digits) for _ in range(length))\n",
        "\n",
        "\n",
        "with open('random_strings.txt', 'w') as file:\n",
        "\n",
        "    for _ in range(100):\n",
        "        length = random.randint(10, 15)\n",
        "        random_string = generate_random_string(length)\n",
        "        file.write(random_string + '\\n')\n",
        "\n",
        "\n",
        "with open('random_strings.txt', 'r') as file:\n",
        "    contents = file.read()\n",
        "    print(contents)\n"
      ],
      "metadata": {
        "colab": {
          "base_uri": "https://localhost:8080/"
        },
        "id": "V-bPgGUmGSkE",
        "outputId": "ba02fd75-ff7f-428b-a237-f8b135063719"
      },
      "execution_count": null,
      "outputs": [
        {
          "output_type": "stream",
          "name": "stdout",
          "text": [
            "FuxCIfaZoVu\n",
            "UZluGsytPcoY4P\n",
            "6DZgRFYD5e\n",
            "948EnjyDi8p\n",
            "Ll8w3PPgoxUim\n",
            "Bz0N29zQPw\n",
            "z7sLaFS7FkXf\n",
            "OIfuPj75heVk\n",
            "mGKX42w9Yqs2\n",
            "pMqTjfPun57A\n",
            "Gql5CcT1xlKKpP\n",
            "y5lCE796p0Wm\n",
            "R3vpyPHiafZ\n",
            "cNLh7uYcyaTvt\n",
            "TWW7OZhR4u3cW\n",
            "eYUiPmA5go\n",
            "bBf2quNAvw9wO\n",
            "08w7UoD1nGZNkDl\n",
            "ng19eS11Zt\n",
            "sa1BSrHCKwNMy4\n",
            "4li6g6RCOf4oup\n",
            "SdGE3lbZ2bpc6\n",
            "sdJ8e8U57kDDbP\n",
            "Zu1Ta74YqAX\n",
            "w6rDF280jfeIDy\n",
            "6GkbzbHlnts\n",
            "1qc322u6m0\n",
            "jiavqMvDKbEV0\n",
            "qrQLAUz1ptlE1\n",
            "xwRgSAKmNr\n",
            "CmTmX1NCkA\n",
            "p5SQClYGLn\n",
            "jdm3ptOH8Y\n",
            "0ty3TWdWnEdTR\n",
            "ApdhwbLjSgUwGiZ\n",
            "02Z78xUcsph\n",
            "XHdIBqy7AN\n",
            "QDQnQgMLCZ5n\n",
            "Trqka4E80x\n",
            "SurnaIWG3MOk2xG\n",
            "bmZhD6Boid\n",
            "ZD7OnhuFQWHYJYb\n",
            "EdDt1rOW0W\n",
            "zQSXQCMBHQ3\n",
            "npO7SVBQh0ybn6X\n",
            "zbQHjYlfoPEl\n",
            "dszPgWOwlyS\n",
            "ld6a6errhiLgXf\n",
            "NoYzi8XNfNwo\n",
            "6Lrb7Wv6r0Gi8Ok\n",
            "sgyz7rOXxgG84t\n",
            "A7B3IUrJmZt2JKo\n",
            "0pdmdBpeCEZQu2\n",
            "HnfdcDTtOTfjY\n",
            "dDMHl3tSmkBtcy\n",
            "RgdIUrbc98\n",
            "dbcBAPYAJYJsL\n",
            "3QGqskUXprN5\n",
            "JAoIev0hGbg\n",
            "RRS7isZVBUmwU\n",
            "JriWF30vc5hNJ9\n",
            "vCggYnekav8XygO\n",
            "jAoef31IqYtca\n",
            "X1KKGzxrT227K\n",
            "jhFU6CzVJ8HGNw7\n",
            "jtJHaRVMe9lEU\n",
            "RecqZcTCVa5m\n",
            "IHtZN2NnXI1Tm\n",
            "TAub5Ol7XplI0s\n",
            "ajkcLj2jQajCR\n",
            "ceFTPDn3O9\n",
            "ejpKwvfmkWs\n",
            "PyRoQroIPw\n",
            "IM4hIbT54UpiLI\n",
            "0Vp6TCxU1zdchn\n",
            "M7hRWRWBEoCFBK\n",
            "hVlDPv1Zxf\n",
            "WajB6Rmo9vV8Q0\n",
            "aNBZ3emOMfEg7\n",
            "t8NTobPblVIJd4\n",
            "IVuTpgifA2dn61\n",
            "hQvUdmS4sPIz\n",
            "DBPJz3vyEt\n",
            "P1mrSCowpKpfZJ\n",
            "QwEq8ZvJoxfn\n",
            "cRJft6Y75oVVK\n",
            "h2qj1aUw7Eny\n",
            "fvVfa8rQynIt3\n",
            "J0Ly1AndIwt\n",
            "NMO05ndjp6i\n",
            "cFEUGPfJBGhWmN\n",
            "OVF005UPX7\n",
            "kV0TnFhijYlST\n",
            "aL7touSyfgZ\n",
            "DCerMeVzuYn\n",
            "ywNRDVi7Q3\n",
            "sLj8WqY7oN\n",
            "StxacctbtOAUvY\n",
            "KlEvMhSGHf0p5m\n",
            "ndKlzLGU6HXAz\n",
            "\n"
          ]
        }
      ]
    },
    {
      "cell_type": "code",
      "source": [
        "\n",
        "def is_prime(n):\n",
        "    if n <= 1:\n",
        "        return False\n",
        "    if n <= 3:\n",
        "        return True\n",
        "    if n % 2 == 0 or n % 3 == 0:\n",
        "        return False\n",
        "    i = 5\n",
        "    while i * i <= n:\n",
        "        if n % i == 0 or n % (i + 2) == 0:\n",
        "            return False\n",
        "        i += 6\n",
        "    return True\n",
        "\n",
        "\n",
        "with open('primes_600_to_800.txt', 'w') as file:\n",
        "    for number in range(600, 801):\n",
        "        if is_prime(number):\n",
        "            file.write(f\"{number}\\n\")\n",
        "\n",
        "with open('primes_600_to_800.txt', 'r') as file:\n",
        "    contents = file.read()\n",
        "    print(contents)\n"
      ],
      "metadata": {
        "colab": {
          "base_uri": "https://localhost:8080/"
        },
        "id": "99ADUYyIG58C",
        "outputId": "73690932-cbf7-4404-e83e-aacb2fe79932"
      },
      "execution_count": null,
      "outputs": [
        {
          "output_type": "stream",
          "name": "stdout",
          "text": [
            "601\n",
            "607\n",
            "613\n",
            "617\n",
            "619\n",
            "631\n",
            "641\n",
            "643\n",
            "647\n",
            "653\n",
            "659\n",
            "661\n",
            "673\n",
            "677\n",
            "683\n",
            "691\n",
            "701\n",
            "709\n",
            "719\n",
            "727\n",
            "733\n",
            "739\n",
            "743\n",
            "751\n",
            "757\n",
            "761\n",
            "769\n",
            "773\n",
            "787\n",
            "797\n",
            "\n"
          ]
        }
      ]
    },
    {
      "cell_type": "code",
      "source": [
        "\n",
        "\n",
        "import time\n",
        "start_time = time.time()\n",
        "for i in range(1000000):\n",
        "    pass\n",
        "\n",
        "end_time = time.time()\n",
        "elapsed_time = end_time - start_time\n",
        "print(f\"Time taken: {elapsed_time} seconds\")\n"
      ],
      "metadata": {
        "colab": {
          "base_uri": "https://localhost:8080/"
        },
        "id": "yDLjggl6HcoC",
        "outputId": "60889244-9195-4c4f-cf9f-be7b14d92b11"
      },
      "execution_count": null,
      "outputs": [
        {
          "output_type": "stream",
          "name": "stdout",
          "text": [
            "Time taken: 0.17476749420166016 seconds\n"
          ]
        }
      ]
    },
    {
      "cell_type": "code",
      "source": [
        "\n",
        "\n",
        "\n",
        "import time\n",
        "import random\n",
        "import matplotlib.pyplot as plt\n",
        "\n",
        "def generate_random_list(size):\n",
        "    return [random.randint(1, 10000) for _ in range(size)]\n",
        "\n",
        "\n",
        "def measure_sort_time(size):\n",
        "    lst = generate_random_list(size)\n",
        "    start_time = time.time()\n",
        "    lst.sort()\n",
        "    end_time = time.time()\n",
        "    return end_time - start_time\n",
        "\n",
        "sizes = [5000, 10000, 15000, 20000, 25000]\n",
        "times = []\n",
        "\n",
        "for size in sizes:\n",
        "    time_taken = measure_sort_time(size)\n",
        "    times.append(time_taken)\n",
        "    print(f\"Time taken to sort {size} elements: {time_taken:.6f} seconds\")\n",
        "\n",
        "plt.figure(figsize=(10, 6))\n",
        "plt.plot(sizes, times, marker='o', linestyle='-', color='b')\n",
        "plt.xlabel('Number of Elements')\n",
        "plt.ylabel('Time Taken (seconds)')\n",
        "plt.title('Time Taken to Sort Lists of Different Sizes')\n",
        "plt.grid(True)\n",
        "plt.show()\n"
      ],
      "metadata": {
        "colab": {
          "base_uri": "https://localhost:8080/",
          "height": 655
        },
        "id": "1R_0VluOHsp3",
        "outputId": "2abed832-4112-45e4-adf0-7ff4660aaeca"
      },
      "execution_count": null,
      "outputs": [
        {
          "output_type": "stream",
          "name": "stdout",
          "text": [
            "Time taken to sort 5000 elements: 0.009893 seconds\n",
            "Time taken to sort 10000 elements: 0.009513 seconds\n",
            "Time taken to sort 15000 elements: 0.004552 seconds\n",
            "Time taken to sort 20000 elements: 0.013012 seconds\n",
            "Time taken to sort 25000 elements: 0.028634 seconds\n"
          ]
        },
        {
          "output_type": "display_data",
          "data": {
            "text/plain": [
              "<Figure size 1000x600 with 1 Axes>"
            ],
            "image/png": "[encoded data removed]"
          },
          "metadata": {}
        }
      ]
    },
    {
      "cell_type": "code",
      "source": [
        "\n",
        "students_marks = {\n",
        "    \"Alice\": {\"Math\": 85, \"Science\": 90, \"English\": 88, \"History\": 76, \"Art\": 92},\n",
        "    \"Bob\": {\"Math\": 78, \"Science\": 82, \"English\": 80, \"History\": 74, \"Art\": 68},\n",
        "    \"Charlie\": {\"Math\": 92, \"Science\": 95, \"English\": 90, \"History\": 88, \"Art\": 85},\n",
        "    \"David\": {\"Math\": 70, \"Science\": 72, \"English\": 68, \"History\": 74, \"Art\": 71},\n",
        "    \"Eva\": {\"Math\": 88, \"Science\": 91, \"English\": 89, \"History\": 84, \"Art\": 90}\n",
        "}\n",
        "\n",
        "def calculate_average(marks):\n",
        "    return sum(marks.values()) / len(marks)\n",
        "\n",
        "max_avg_student = None\n",
        "min_avg_student = None\n",
        "max_avg = float('-inf')\n",
        "min_avg = float('inf')\n",
        "\n",
        "for student, marks in students_marks.items():\n",
        "    avg_marks = calculate_average(marks)\n",
        "\n",
        "    if avg_marks > max_avg:\n",
        "        max_avg = avg_marks\n",
        "        max_avg_student = student\n",
        "\n",
        "    if avg_marks < min_avg:\n",
        "        min_avg = avg_marks\n",
        "        min_avg_student = student\n",
        "\n",
        "print(f\"Student with maximum average marks: {max_avg_student} ({max_avg:.2f})\")\n",
        "print(f\"Student with minimum average marks: {min_avg_student} ({min_avg:.2f})\")\n"
      ],
      "metadata": {
        "colab": {
          "base_uri": "https://localhost:8080/"
        },
        "id": "AcQaqjQ4H0_C",
        "outputId": "806a476e-6b6f-4cb1-e4f5-e2308b5b3add"
      },
      "execution_count": null,
      "outputs": [
        {
          "output_type": "stream",
          "name": "stdout",
          "text": [
            "Student with maximum average marks: Charlie (90.00)\n",
            "Student with minimum average marks: David (71.00)\n"
          ]
        }
      ]
    },
    {
      "cell_type": "code",
      "source": [
        "L = [\"Ram\", 1, \"Shyam\", 2, \"Aman\", 3]\n",
        "print(\"Original List:\", L)\n",
        "\n",
        "# Sort the list using a custom key\n",
        "L.sort(key=str)\n",
        "print(\"Sorted List:\", L)\n"
      ],
      "metadata": {
        "colab": {
          "base_uri": "https://localhost:8080/"
        },
        "id": "5e0HGHxIItQP",
        "outputId": "bb10d9c9-1cf5-44d3-ef50-21249251a8cd"
      },
      "execution_count": null,
      "outputs": [
        {
          "output_type": "stream",
          "name": "stdout",
          "text": [
            "Original List: ['Ram', 1, 'Shyam', 2, 'Aman', 3]\n",
            "Sorted List: [1, 2, 3, 'Aman', 'Ram', 'Shyam']\n"
          ]
        }
      ]
    },
    {
      "cell_type": "code",
      "source": [],
      "metadata": {
        "id": "Vj-xZ18FR_M9"
      },
      "execution_count": null,
      "outputs": []
    }
  ]
}